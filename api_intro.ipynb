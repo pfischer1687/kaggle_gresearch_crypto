{
 "cells": [
  {
   "cell_type": "markdown",
   "id": "1d828a1b",
   "metadata": {},
   "source": [
    "# Detailed API Introduction"
   ]
  },
  {
   "cell_type": "code",
   "execution_count": 1,
   "id": "c0b71889",
   "metadata": {},
   "outputs": [],
   "source": [
    "import sys\n",
    "sys.path.insert(0, '../data') # Paul: insert directory containing gresearch_crypto module into system path\n",
    "import gresearch_crypto\n",
    "import pandas as pd\n",
    "import os"
   ]
  },
  {
   "cell_type": "markdown",
   "id": "e293231e",
   "metadata": {},
   "source": [
    "You can only submit from Kaggle Notebooks."
   ]
  },
  {
   "cell_type": "markdown",
   "id": "84dbc640",
   "metadata": {},
   "source": [
    "## TL;DR: End-to-End Usage Example"
   ]
  },
  {
   "cell_type": "markdown",
   "id": "ae4fc844",
   "metadata": {},
   "source": [
    "```\n",
    "import gresearch_crypto\n",
    "env = gresearch_crypto.make_env()\n",
    "\n",
    "# Training data is in the competition dataset as usual\n",
    "train_df = pd.read_csv('/kaggle/input/g-research-crypto-forecasting/train.csv', low_memory=False)\n",
    "tgt_1_model.fit(train_df)\n",
    "tgt_2_model.fit(train_df)\n",
    "iter_test = env.iter_test()\n",
    "for (test_df, sample_prediction_df) in iter_test:\n",
    "    sample_prediction_df['Target'] = tgt_1_model.predict(test_df)\n",
    "    env.predict(sample_prediction_df)\n",
    "```"
   ]
  },
  {
   "cell_type": "markdown",
   "id": "695870ae",
   "metadata": {},
   "source": [
    "## Introduction"
   ]
  },
  {
   "cell_type": "markdown",
   "id": "efcb702c",
   "metadata": {},
   "source": [
    "You can only call make_env() $\\textbf{once}$ so don't lose it! Paul: If you want to call it again you have to restart the kernel."
   ]
  },
  {
   "cell_type": "code",
   "execution_count": 2,
   "id": "2e3ba87e",
   "metadata": {},
   "outputs": [],
   "source": [
    "env = gresearch_crypto.make_env()"
   ]
  },
  {
   "cell_type": "code",
   "execution_count": 3,
   "id": "9db475a5",
   "metadata": {},
   "outputs": [
    {
     "name": "stdout",
     "output_type": "stream",
     "text": [
      "../data/example_test.csv\n",
      "../data/supplemental_train.csv\n",
      "../data/train.csv\n",
      "../data/asset_details.csv\n",
      "../data/example_sample_submission.csv\n",
      "../data/gresearch_crypto/competition.cpython-37m-x86_64-linux-gnu.so\n",
      "../data/gresearch_crypto/__init__.py\n",
      "../data/gresearch_crypto/__pycache__/__init__.cpython-37.pyc\n"
     ]
    }
   ],
   "source": [
    "for dirname, _, filenames in os.walk('../data'): # Paul: '/kaggle/input' in Kaggle Notebook?\n",
    "    for filename in filenames:\n",
    "        print(os.path.join(dirname, filename))"
   ]
  },
  {
   "cell_type": "code",
   "execution_count": 5,
   "id": "02ef3149",
   "metadata": {},
   "outputs": [
    {
     "data": {
      "text/html": [
       "<div>\n",
       "<style scoped>\n",
       "    .dataframe tbody tr th:only-of-type {\n",
       "        vertical-align: middle;\n",
       "    }\n",
       "\n",
       "    .dataframe tbody tr th {\n",
       "        vertical-align: top;\n",
       "    }\n",
       "\n",
       "    .dataframe thead th {\n",
       "        text-align: right;\n",
       "    }\n",
       "</style>\n",
       "<table border=\"1\" class=\"dataframe\">\n",
       "  <thead>\n",
       "    <tr style=\"text-align: right;\">\n",
       "      <th></th>\n",
       "      <th>timestamp</th>\n",
       "      <th>Asset_ID</th>\n",
       "      <th>Count</th>\n",
       "      <th>Open</th>\n",
       "      <th>High</th>\n",
       "      <th>Low</th>\n",
       "      <th>Close</th>\n",
       "      <th>Volume</th>\n",
       "      <th>VWAP</th>\n",
       "      <th>Target</th>\n",
       "    </tr>\n",
       "  </thead>\n",
       "  <tbody>\n",
       "    <tr>\n",
       "      <th>0</th>\n",
       "      <td>1514764860</td>\n",
       "      <td>2</td>\n",
       "      <td>40.0</td>\n",
       "      <td>2376.580</td>\n",
       "      <td>2399.50</td>\n",
       "      <td>2357.14</td>\n",
       "      <td>2374.590</td>\n",
       "      <td>19.233005</td>\n",
       "      <td>2373.116392</td>\n",
       "      <td>-0.004218</td>\n",
       "    </tr>\n",
       "    <tr>\n",
       "      <th>1</th>\n",
       "      <td>1514764860</td>\n",
       "      <td>0</td>\n",
       "      <td>5.0</td>\n",
       "      <td>8.530</td>\n",
       "      <td>8.53</td>\n",
       "      <td>8.53</td>\n",
       "      <td>8.530</td>\n",
       "      <td>78.380000</td>\n",
       "      <td>8.530000</td>\n",
       "      <td>-0.014399</td>\n",
       "    </tr>\n",
       "    <tr>\n",
       "      <th>2</th>\n",
       "      <td>1514764860</td>\n",
       "      <td>1</td>\n",
       "      <td>229.0</td>\n",
       "      <td>13835.194</td>\n",
       "      <td>14013.80</td>\n",
       "      <td>13666.11</td>\n",
       "      <td>13850.176</td>\n",
       "      <td>31.550062</td>\n",
       "      <td>13827.062093</td>\n",
       "      <td>-0.014643</td>\n",
       "    </tr>\n",
       "  </tbody>\n",
       "</table>\n",
       "</div>"
      ],
      "text/plain": [
       "    timestamp  Asset_ID  Count       Open      High       Low      Close  \\\n",
       "0  1514764860         2   40.0   2376.580   2399.50   2357.14   2374.590   \n",
       "1  1514764860         0    5.0      8.530      8.53      8.53      8.530   \n",
       "2  1514764860         1  229.0  13835.194  14013.80  13666.11  13850.176   \n",
       "\n",
       "      Volume          VWAP    Target  \n",
       "0  19.233005   2373.116392 -0.004218  \n",
       "1  78.380000      8.530000 -0.014399  \n",
       "2  31.550062  13827.062093 -0.014643  "
      ]
     },
     "execution_count": 5,
     "metadata": {},
     "output_type": "execute_result"
    }
   ],
   "source": [
    "# Paul: V froze Ubuntu VM\n",
    "# train_df = pd.read_csv('../data/train.csv', low_memory=False, \n",
    "#                        dtype={'Asset_ID': 'int8', 'Count': 'int32', 'row_id': 'int32', 'Count': 'int32', \n",
    "#                               'Open': 'float64', 'High': 'float64', 'Low': 'float64', 'Close': 'float64', \n",
    "#                               'Volume': 'float64', 'VWAP': 'float64'\n",
    "#                              }\n",
    "#                       )\n",
    "# train_df.head(3)\n",
    "train_df = pd.read_csv('../data//train.csv')\n",
    "train_df.head(3)"
   ]
  },
  {
   "cell_type": "markdown",
   "id": "27fd9793",
   "metadata": {},
   "source": [
    "## `iter_test` function"
   ]
  },
  {
   "cell_type": "markdown",
   "id": "740ba283",
   "metadata": {},
   "source": [
    "You have direct access to the example test rows for convenience, but your code will only be able to get rows from the real test set via the API. Once you call `predict` you can continue on to the next batch. Yields test_df and sample_prediction_df until until call failure. Paul: What does this mean? Can I do this offline or has to be in kaggle notebook?"
   ]
  },
  {
   "cell_type": "code",
   "execution_count": 6,
   "id": "f46e204c",
   "metadata": {},
   "outputs": [],
   "source": [
    "# You can only iterate through a result from `env.iter_test()` once\n",
    "# so be careful not to lose it once you start iterating.\n",
    "iter_test = env.iter_test()"
   ]
  },
  {
   "cell_type": "code",
   "execution_count": 7,
   "id": "90e2474f",
   "metadata": {},
   "outputs": [
    {
     "name": "stdout",
     "output_type": "stream",
     "text": [
      "This version of the API is not optimized and should not be used to estimate the runtime of your code on the hidden test set.\n"
     ]
    },
    {
     "data": {
      "text/html": [
       "<div>\n",
       "<style scoped>\n",
       "    .dataframe tbody tr th:only-of-type {\n",
       "        vertical-align: middle;\n",
       "    }\n",
       "\n",
       "    .dataframe tbody tr th {\n",
       "        vertical-align: top;\n",
       "    }\n",
       "\n",
       "    .dataframe thead th {\n",
       "        text-align: right;\n",
       "    }\n",
       "</style>\n",
       "<table border=\"1\" class=\"dataframe\">\n",
       "  <thead>\n",
       "    <tr style=\"text-align: right;\">\n",
       "      <th></th>\n",
       "      <th>timestamp</th>\n",
       "      <th>Asset_ID</th>\n",
       "      <th>Count</th>\n",
       "      <th>Open</th>\n",
       "      <th>High</th>\n",
       "      <th>Low</th>\n",
       "      <th>Close</th>\n",
       "      <th>Volume</th>\n",
       "      <th>VWAP</th>\n",
       "      <th>row_id</th>\n",
       "    </tr>\n",
       "  </thead>\n",
       "  <tbody>\n",
       "    <tr>\n",
       "      <th>0</th>\n",
       "      <td>1623542400</td>\n",
       "      <td>3</td>\n",
       "      <td>1201</td>\n",
       "      <td>1.478556</td>\n",
       "      <td>1.48603</td>\n",
       "      <td>1.478</td>\n",
       "      <td>1.483681</td>\n",
       "      <td>654799.561103</td>\n",
       "      <td>1.481439</td>\n",
       "      <td>0</td>\n",
       "    </tr>\n",
       "    <tr>\n",
       "      <th>1</th>\n",
       "      <td>1623542400</td>\n",
       "      <td>2</td>\n",
       "      <td>1020</td>\n",
       "      <td>580.306667</td>\n",
       "      <td>583.89000</td>\n",
       "      <td>579.910</td>\n",
       "      <td>582.276667</td>\n",
       "      <td>1227.988328</td>\n",
       "      <td>581.697038</td>\n",
       "      <td>1</td>\n",
       "    </tr>\n",
       "    <tr>\n",
       "      <th>2</th>\n",
       "      <td>1623542400</td>\n",
       "      <td>0</td>\n",
       "      <td>626</td>\n",
       "      <td>343.789500</td>\n",
       "      <td>345.10800</td>\n",
       "      <td>343.640</td>\n",
       "      <td>344.598000</td>\n",
       "      <td>1718.832569</td>\n",
       "      <td>344.441729</td>\n",
       "      <td>2</td>\n",
       "    </tr>\n",
       "  </tbody>\n",
       "</table>\n",
       "</div>"
      ],
      "text/plain": [
       "    timestamp  Asset_ID  Count        Open       High      Low       Close  \\\n",
       "0  1623542400         3   1201    1.478556    1.48603    1.478    1.483681   \n",
       "1  1623542400         2   1020  580.306667  583.89000  579.910  582.276667   \n",
       "2  1623542400         0    626  343.789500  345.10800  343.640  344.598000   \n",
       "\n",
       "          Volume        VWAP  row_id  \n",
       "0  654799.561103    1.481439       0  \n",
       "1    1227.988328  581.697038       1  \n",
       "2    1718.832569  344.441729       2  "
      ]
     },
     "execution_count": 7,
     "metadata": {},
     "output_type": "execute_result"
    }
   ],
   "source": [
    "(test_df, sample_prediction_df) = next(iter_test)\n",
    "test_df.head(3)"
   ]
  },
  {
   "cell_type": "markdown",
   "id": "e3f21f50",
   "metadata": {},
   "source": [
    "The API will require 0.5 GB of memory after initialization. The initialization step (env.iter_test()) will require meaningfully more memory than that; we recommend you do not load your model until after making that call. The API will also consume less than 30 minutes of runtime for loading and serving the data. Paul: How do I plan for the impact of the API on your notebook's runtime and memory use?"
   ]
  },
  {
   "cell_type": "code",
   "execution_count": 8,
   "id": "2d983d96",
   "metadata": {},
   "outputs": [
    {
     "data": {
      "text/html": [
       "<div>\n",
       "<style scoped>\n",
       "    .dataframe tbody tr th:only-of-type {\n",
       "        vertical-align: middle;\n",
       "    }\n",
       "\n",
       "    .dataframe tbody tr th {\n",
       "        vertical-align: top;\n",
       "    }\n",
       "\n",
       "    .dataframe thead th {\n",
       "        text-align: right;\n",
       "    }\n",
       "</style>\n",
       "<table border=\"1\" class=\"dataframe\">\n",
       "  <thead>\n",
       "    <tr style=\"text-align: right;\">\n",
       "      <th></th>\n",
       "      <th>row_id</th>\n",
       "      <th>Target</th>\n",
       "    </tr>\n",
       "  </thead>\n",
       "  <tbody>\n",
       "    <tr>\n",
       "      <th>0</th>\n",
       "      <td>0</td>\n",
       "      <td>0.0</td>\n",
       "    </tr>\n",
       "    <tr>\n",
       "      <th>1</th>\n",
       "      <td>1</td>\n",
       "      <td>0.0</td>\n",
       "    </tr>\n",
       "    <tr>\n",
       "      <th>2</th>\n",
       "      <td>2</td>\n",
       "      <td>0.0</td>\n",
       "    </tr>\n",
       "  </tbody>\n",
       "</table>\n",
       "</div>"
      ],
      "text/plain": [
       "   row_id  Target\n",
       "0       0     0.0\n",
       "1       1     0.0\n",
       "2       2     0.0"
      ]
     },
     "execution_count": 8,
     "metadata": {},
     "output_type": "execute_result"
    }
   ],
   "source": [
    "sample_prediction_df.head(3)"
   ]
  },
  {
   "cell_type": "markdown",
   "id": "9a468d5d",
   "metadata": {},
   "source": [
    "We'll get an error if we try to continue on to the next batch without making our predictions for the current batch."
   ]
  },
  {
   "cell_type": "markdown",
   "id": "f2003792",
   "metadata": {},
   "source": [
    "## `predict` function"
   ]
  },
  {
   "cell_type": "markdown",
   "id": "54db6a77",
   "metadata": {},
   "source": [
    "Stores your predictions for the current batch. Expects the same format as sample_prediction_df.\n",
    "\n",
    "Args:\n",
    "\n",
    "    predictions_df: DataFrame which must have the same format as sample_prediction_df.\n",
    "\n",
    "This function will raise an Exception if not called after a successful iteration of the iter_test generator."
   ]
  },
  {
   "cell_type": "code",
   "execution_count": 9,
   "id": "5d4cc2a3",
   "metadata": {},
   "outputs": [],
   "source": [
    "env.predict(sample_prediction_df)"
   ]
  },
  {
   "cell_type": "markdown",
   "id": "5fa5908a",
   "metadata": {},
   "source": [
    "## Main Loop/Basic Submission Template"
   ]
  },
  {
   "cell_type": "markdown",
   "id": "2bdf6619",
   "metadata": {},
   "source": [
    "When writing your own notebooks, be sure to write robust code that makes as few assumptions about the iter_test/predict loop as possible. For example there may be large gaps between timestamps for one or more cryptoassets. In the unlikely event that a cryptoasset were dropped from enough exchanges it might go missing from the dataset entirely.\n",
    "\n",
    "You may assume that the structure of sample_prediction_df will not change in this competition."
   ]
  },
  {
   "cell_type": "code",
   "execution_count": 10,
   "id": "442e8016",
   "metadata": {},
   "outputs": [],
   "source": [
    "for (test_df, sample_prediction_df) in iter_test:\n",
    "    sample_prediction_df['Target'] = 0\n",
    "    env.predict(sample_prediction_df)"
   ]
  },
  {
   "cell_type": "code",
   "execution_count": null,
   "id": "b44821e5",
   "metadata": {},
   "outputs": [],
   "source": []
  }
 ],
 "metadata": {
  "kernelspec": {
   "display_name": "Python 3 (ipykernel)",
   "language": "python",
   "name": "python3"
  },
  "language_info": {
   "codemirror_mode": {
    "name": "ipython",
    "version": 3
   },
   "file_extension": ".py",
   "mimetype": "text/x-python",
   "name": "python",
   "nbconvert_exporter": "python",
   "pygments_lexer": "ipython3",
   "version": "3.7.11"
  }
 },
 "nbformat": 4,
 "nbformat_minor": 5
}
