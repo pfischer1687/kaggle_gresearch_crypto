{
 "cells": [
  {
   "cell_type": "markdown",
   "id": "5b0b0a30",
   "metadata": {
    "papermill": {
     "duration": 0.04489,
     "end_time": "2022-02-02T00:45:57.864858",
     "exception": false,
     "start_time": "2022-02-02T00:45:57.819968",
     "status": "completed"
    },
    "tags": []
   },
   "source": [
    "# G-Research Crypto Forecasting Kaggle Competition"
   ]
  },
  {
   "cell_type": "markdown",
   "id": "e2928419",
   "metadata": {
    "papermill": {
     "duration": 0.043885,
     "end_time": "2022-02-02T00:45:57.956648",
     "exception": false,
     "start_time": "2022-02-02T00:45:57.912763",
     "status": "completed"
    },
    "tags": []
   },
   "source": [
    "Let us use linear regression for predicting price returns across a bundle of major cryptocurrencies using the time-series of historical prices as training data."
   ]
  },
  {
   "cell_type": "code",
   "execution_count": 1,
   "id": "be02e2e0",
   "metadata": {
    "execution": {
     "iopub.execute_input": "2022-02-02T00:45:58.056217Z",
     "iopub.status.busy": "2022-02-02T00:45:58.055533Z",
     "iopub.status.idle": "2022-02-02T00:45:59.510228Z",
     "shell.execute_reply": "2022-02-02T00:45:59.509338Z",
     "shell.execute_reply.started": "2022-02-02T00:20:08.177883Z"
    },
    "papermill": {
     "duration": 1.508502,
     "end_time": "2022-02-02T00:45:59.510432",
     "exception": false,
     "start_time": "2022-02-02T00:45:58.001930",
     "status": "completed"
    },
    "tags": []
   },
   "outputs": [],
   "source": [
    "import sys\n",
    "sys.path.insert(0, '/kaggle/input/g-research-crypto-forecasting')\n",
    "import gresearch_crypto\n",
    "import pandas as pd\n",
    "import numpy as np\n",
    "import matplotlib.pyplot as plt\n",
    "from statsmodels.graphics.tsaplots import plot_pacf\n",
    "from sklearn.preprocessing import StandardScaler\n",
    "from sklearn.decomposition import PCA\n",
    "from sklearn.linear_model import LinearRegression"
   ]
  },
  {
   "cell_type": "markdown",
   "id": "e5f76bba",
   "metadata": {
    "papermill": {
     "duration": 0.041739,
     "end_time": "2022-02-02T00:45:59.594527",
     "exception": false,
     "start_time": "2022-02-02T00:45:59.552788",
     "status": "completed"
    },
    "tags": []
   },
   "source": [
    "## Getting the Training Data"
   ]
  },
  {
   "cell_type": "markdown",
   "id": "2b6dc0a3",
   "metadata": {
    "papermill": {
     "duration": 0.041462,
     "end_time": "2022-02-02T00:45:59.678002",
     "exception": false,
     "start_time": "2022-02-02T00:45:59.636540",
     "status": "completed"
    },
    "tags": []
   },
   "source": [
    "Let us import the training data."
   ]
  },
  {
   "cell_type": "code",
   "execution_count": 2,
   "id": "61058358",
   "metadata": {
    "execution": {
     "iopub.execute_input": "2022-02-02T00:45:59.766655Z",
     "iopub.status.busy": "2022-02-02T00:45:59.765914Z",
     "iopub.status.idle": "2022-02-02T00:47:13.301530Z",
     "shell.execute_reply": "2022-02-02T00:47:13.302756Z",
     "shell.execute_reply.started": "2022-02-02T00:20:09.874231Z"
    },
    "papermill": {
     "duration": 73.583733,
     "end_time": "2022-02-02T00:47:13.303516",
     "exception": false,
     "start_time": "2022-02-02T00:45:59.719783",
     "status": "completed"
    },
    "tags": []
   },
   "outputs": [
    {
     "data": {
      "text/html": [
       "<div>\n",
       "<style scoped>\n",
       "    .dataframe tbody tr th:only-of-type {\n",
       "        vertical-align: middle;\n",
       "    }\n",
       "\n",
       "    .dataframe tbody tr th {\n",
       "        vertical-align: top;\n",
       "    }\n",
       "\n",
       "    .dataframe thead th {\n",
       "        text-align: right;\n",
       "    }\n",
       "</style>\n",
       "<table border=\"1\" class=\"dataframe\">\n",
       "  <thead>\n",
       "    <tr style=\"text-align: right;\">\n",
       "      <th></th>\n",
       "      <th>Asset_ID</th>\n",
       "      <th>Count</th>\n",
       "      <th>Open</th>\n",
       "      <th>High</th>\n",
       "      <th>Low</th>\n",
       "      <th>Close</th>\n",
       "      <th>Volume</th>\n",
       "      <th>VWAP</th>\n",
       "      <th>Target</th>\n",
       "    </tr>\n",
       "    <tr>\n",
       "      <th>timestamp</th>\n",
       "      <th></th>\n",
       "      <th></th>\n",
       "      <th></th>\n",
       "      <th></th>\n",
       "      <th></th>\n",
       "      <th></th>\n",
       "      <th></th>\n",
       "      <th></th>\n",
       "      <th></th>\n",
       "    </tr>\n",
       "  </thead>\n",
       "  <tbody>\n",
       "    <tr>\n",
       "      <th>1514764860</th>\n",
       "      <td>2</td>\n",
       "      <td>40</td>\n",
       "      <td>2376.5800</td>\n",
       "      <td>2399.5000</td>\n",
       "      <td>2357.1400</td>\n",
       "      <td>2374.5900</td>\n",
       "      <td>19.233005</td>\n",
       "      <td>2373.116392</td>\n",
       "      <td>-0.004218</td>\n",
       "    </tr>\n",
       "    <tr>\n",
       "      <th>1514764860</th>\n",
       "      <td>0</td>\n",
       "      <td>5</td>\n",
       "      <td>8.5300</td>\n",
       "      <td>8.5300</td>\n",
       "      <td>8.5300</td>\n",
       "      <td>8.5300</td>\n",
       "      <td>78.380000</td>\n",
       "      <td>8.530000</td>\n",
       "      <td>-0.014399</td>\n",
       "    </tr>\n",
       "    <tr>\n",
       "      <th>1514764860</th>\n",
       "      <td>1</td>\n",
       "      <td>229</td>\n",
       "      <td>13835.1940</td>\n",
       "      <td>14013.8000</td>\n",
       "      <td>13666.1100</td>\n",
       "      <td>13850.1760</td>\n",
       "      <td>31.550062</td>\n",
       "      <td>13827.062093</td>\n",
       "      <td>-0.014643</td>\n",
       "    </tr>\n",
       "    <tr>\n",
       "      <th>1514764860</th>\n",
       "      <td>5</td>\n",
       "      <td>32</td>\n",
       "      <td>7.6596</td>\n",
       "      <td>7.6596</td>\n",
       "      <td>7.6567</td>\n",
       "      <td>7.6576</td>\n",
       "      <td>6626.713370</td>\n",
       "      <td>7.657713</td>\n",
       "      <td>-0.013922</td>\n",
       "    </tr>\n",
       "    <tr>\n",
       "      <th>1514764860</th>\n",
       "      <td>7</td>\n",
       "      <td>5</td>\n",
       "      <td>25.9200</td>\n",
       "      <td>25.9200</td>\n",
       "      <td>25.8740</td>\n",
       "      <td>25.8770</td>\n",
       "      <td>121.087310</td>\n",
       "      <td>25.891363</td>\n",
       "      <td>-0.008264</td>\n",
       "    </tr>\n",
       "  </tbody>\n",
       "</table>\n",
       "</div>"
      ],
      "text/plain": [
       "            Asset_ID  Count        Open        High         Low       Close  \\\n",
       "timestamp                                                                     \n",
       "1514764860         2     40   2376.5800   2399.5000   2357.1400   2374.5900   \n",
       "1514764860         0      5      8.5300      8.5300      8.5300      8.5300   \n",
       "1514764860         1    229  13835.1940  14013.8000  13666.1100  13850.1760   \n",
       "1514764860         5     32      7.6596      7.6596      7.6567      7.6576   \n",
       "1514764860         7      5     25.9200     25.9200     25.8740     25.8770   \n",
       "\n",
       "                 Volume          VWAP    Target  \n",
       "timestamp                                        \n",
       "1514764860    19.233005   2373.116392 -0.004218  \n",
       "1514764860    78.380000      8.530000 -0.014399  \n",
       "1514764860    31.550062  13827.062093 -0.014643  \n",
       "1514764860  6626.713370      7.657713 -0.013922  \n",
       "1514764860   121.087310     25.891363 -0.008264  "
      ]
     },
     "execution_count": 2,
     "metadata": {},
     "output_type": "execute_result"
    }
   ],
   "source": [
    "train_df = pd.read_csv('../input/g-research-crypto-forecasting/train.csv', low_memory=False, \n",
    "                       dtype={'Asset_ID': 'int8', 'Count': 'int32', 'row_id': 'int32', 'Count': 'int32', \n",
    "                              'Open': 'float64', 'High': 'float64', 'Low': 'float64', 'Close': 'float64', \n",
    "                              'Volume': 'float64', 'VWAP': 'float64'\n",
    "                             }\n",
    "                      )\n",
    "train_df.set_index('timestamp', inplace=True)\n",
    "train_df.head()"
   ]
  },
  {
   "cell_type": "markdown",
   "id": "4bf4add6",
   "metadata": {
    "papermill": {
     "duration": 0.050774,
     "end_time": "2022-02-02T00:47:13.403746",
     "exception": false,
     "start_time": "2022-02-02T00:47:13.352972",
     "status": "completed"
    },
    "tags": []
   },
   "source": [
    "Let's look at which crypto assets we are dealing with."
   ]
  },
  {
   "cell_type": "code",
   "execution_count": 3,
   "id": "5f269057",
   "metadata": {
    "execution": {
     "iopub.execute_input": "2022-02-02T00:47:13.507356Z",
     "iopub.status.busy": "2022-02-02T00:47:13.506201Z",
     "iopub.status.idle": "2022-02-02T00:47:13.539871Z",
     "shell.execute_reply": "2022-02-02T00:47:13.540486Z",
     "shell.execute_reply.started": "2022-02-02T00:21:12.393479Z"
    },
    "papermill": {
     "duration": 0.087798,
     "end_time": "2022-02-02T00:47:13.540686",
     "exception": false,
     "start_time": "2022-02-02T00:47:13.452888",
     "status": "completed"
    },
    "tags": []
   },
   "outputs": [
    {
     "data": {
      "text/html": [
       "<div>\n",
       "<style scoped>\n",
       "    .dataframe tbody tr th:only-of-type {\n",
       "        vertical-align: middle;\n",
       "    }\n",
       "\n",
       "    .dataframe tbody tr th {\n",
       "        vertical-align: top;\n",
       "    }\n",
       "\n",
       "    .dataframe thead th {\n",
       "        text-align: right;\n",
       "    }\n",
       "</style>\n",
       "<table border=\"1\" class=\"dataframe\">\n",
       "  <thead>\n",
       "    <tr style=\"text-align: right;\">\n",
       "      <th></th>\n",
       "      <th>Weight</th>\n",
       "      <th>Asset_Name</th>\n",
       "    </tr>\n",
       "    <tr>\n",
       "      <th>Asset_ID</th>\n",
       "      <th></th>\n",
       "      <th></th>\n",
       "    </tr>\n",
       "  </thead>\n",
       "  <tbody>\n",
       "    <tr>\n",
       "      <th>0</th>\n",
       "      <td>4.304065</td>\n",
       "      <td>Binance Coin</td>\n",
       "    </tr>\n",
       "    <tr>\n",
       "      <th>1</th>\n",
       "      <td>6.779922</td>\n",
       "      <td>Bitcoin</td>\n",
       "    </tr>\n",
       "    <tr>\n",
       "      <th>2</th>\n",
       "      <td>2.397895</td>\n",
       "      <td>Bitcoin Cash</td>\n",
       "    </tr>\n",
       "    <tr>\n",
       "      <th>3</th>\n",
       "      <td>4.406719</td>\n",
       "      <td>Cardano</td>\n",
       "    </tr>\n",
       "    <tr>\n",
       "      <th>4</th>\n",
       "      <td>3.555348</td>\n",
       "      <td>Dogecoin</td>\n",
       "    </tr>\n",
       "    <tr>\n",
       "      <th>5</th>\n",
       "      <td>1.386294</td>\n",
       "      <td>EOS.IO</td>\n",
       "    </tr>\n",
       "    <tr>\n",
       "      <th>6</th>\n",
       "      <td>5.894403</td>\n",
       "      <td>Ethereum</td>\n",
       "    </tr>\n",
       "    <tr>\n",
       "      <th>7</th>\n",
       "      <td>2.079442</td>\n",
       "      <td>Ethereum Classic</td>\n",
       "    </tr>\n",
       "    <tr>\n",
       "      <th>8</th>\n",
       "      <td>1.098612</td>\n",
       "      <td>IOTA</td>\n",
       "    </tr>\n",
       "    <tr>\n",
       "      <th>9</th>\n",
       "      <td>2.397895</td>\n",
       "      <td>Litecoin</td>\n",
       "    </tr>\n",
       "    <tr>\n",
       "      <th>10</th>\n",
       "      <td>1.098612</td>\n",
       "      <td>Maker</td>\n",
       "    </tr>\n",
       "    <tr>\n",
       "      <th>11</th>\n",
       "      <td>1.609438</td>\n",
       "      <td>Monero</td>\n",
       "    </tr>\n",
       "    <tr>\n",
       "      <th>12</th>\n",
       "      <td>2.079442</td>\n",
       "      <td>Stellar</td>\n",
       "    </tr>\n",
       "    <tr>\n",
       "      <th>13</th>\n",
       "      <td>1.791759</td>\n",
       "      <td>TRON</td>\n",
       "    </tr>\n",
       "  </tbody>\n",
       "</table>\n",
       "</div>"
      ],
      "text/plain": [
       "            Weight        Asset_Name\n",
       "Asset_ID                            \n",
       "0         4.304065      Binance Coin\n",
       "1         6.779922           Bitcoin\n",
       "2         2.397895      Bitcoin Cash\n",
       "3         4.406719           Cardano\n",
       "4         3.555348          Dogecoin\n",
       "5         1.386294            EOS.IO\n",
       "6         5.894403          Ethereum\n",
       "7         2.079442  Ethereum Classic\n",
       "8         1.098612              IOTA\n",
       "9         2.397895          Litecoin\n",
       "10        1.098612             Maker\n",
       "11        1.609438            Monero\n",
       "12        2.079442           Stellar\n",
       "13        1.791759              TRON"
      ]
     },
     "execution_count": 3,
     "metadata": {},
     "output_type": "execute_result"
    }
   ],
   "source": [
    "asset_details = pd.read_csv('../input/g-research-crypto-forecasting/asset_details.csv', \n",
    "                            index_col='Asset_ID')\n",
    "asset_details.sort_index(inplace=True)\n",
    "asset_details"
   ]
  },
  {
   "cell_type": "markdown",
   "id": "82bbd086",
   "metadata": {
    "papermill": {
     "duration": 0.067198,
     "end_time": "2022-02-02T00:47:13.668451",
     "exception": false,
     "start_time": "2022-02-02T00:47:13.601253",
     "status": "completed"
    },
    "tags": []
   },
   "source": [
    "We can see that some of the `VWAP` and `Target` values are Nan."
   ]
  },
  {
   "cell_type": "code",
   "execution_count": 4,
   "id": "e0311f69",
   "metadata": {
    "execution": {
     "iopub.execute_input": "2022-02-02T00:47:13.776703Z",
     "iopub.status.busy": "2022-02-02T00:47:13.775876Z",
     "iopub.status.idle": "2022-02-02T00:47:14.342561Z",
     "shell.execute_reply": "2022-02-02T00:47:14.343135Z",
     "shell.execute_reply.started": "2022-02-02T00:21:12.424551Z"
    },
    "papermill": {
     "duration": 0.619377,
     "end_time": "2022-02-02T00:47:14.343332",
     "exception": false,
     "start_time": "2022-02-02T00:47:13.723955",
     "status": "completed"
    },
    "tags": []
   },
   "outputs": [
    {
     "data": {
      "text/plain": [
       "Asset_ID         0\n",
       "Count            0\n",
       "Open             0\n",
       "High             0\n",
       "Low              0\n",
       "Close            0\n",
       "Volume           0\n",
       "VWAP             9\n",
       "Target      750338\n",
       "dtype: int64"
      ]
     },
     "execution_count": 4,
     "metadata": {},
     "output_type": "execute_result"
    }
   ],
   "source": [
    "train_df.isna().sum()"
   ]
  },
  {
   "cell_type": "markdown",
   "id": "2f6fe0bb",
   "metadata": {
    "papermill": {
     "duration": 0.097259,
     "end_time": "2022-02-02T00:47:14.489493",
     "exception": false,
     "start_time": "2022-02-02T00:47:14.392234",
     "status": "completed"
    },
    "tags": []
   },
   "source": [
    "We can also see that not all of the cryptocurrencies existed at the same time (ie some of the `Asset_ID` values which should be in `asset_details.index` = [0, 1, 2, ..., 13] are missing."
   ]
  },
  {
   "cell_type": "code",
   "execution_count": 5,
   "id": "21331be3",
   "metadata": {
    "execution": {
     "iopub.execute_input": "2022-02-02T00:47:14.649545Z",
     "iopub.status.busy": "2022-02-02T00:47:14.648709Z",
     "iopub.status.idle": "2022-02-02T00:47:15.670726Z",
     "shell.execute_reply": "2022-02-02T00:47:15.669910Z",
     "shell.execute_reply.started": "2022-02-02T00:21:12.964521Z"
    },
    "papermill": {
     "duration": 1.103476,
     "end_time": "2022-02-02T00:47:15.670944",
     "exception": false,
     "start_time": "2022-02-02T00:47:14.567468",
     "status": "completed"
    },
    "tags": []
   },
   "outputs": [
    {
     "data": {
      "text/html": [
       "<div>\n",
       "<style scoped>\n",
       "    .dataframe tbody tr th:only-of-type {\n",
       "        vertical-align: middle;\n",
       "    }\n",
       "\n",
       "    .dataframe tbody tr th {\n",
       "        vertical-align: top;\n",
       "    }\n",
       "\n",
       "    .dataframe thead th {\n",
       "        text-align: right;\n",
       "    }\n",
       "</style>\n",
       "<table border=\"1\" class=\"dataframe\">\n",
       "  <thead>\n",
       "    <tr style=\"text-align: right;\">\n",
       "      <th></th>\n",
       "      <th>Asset_ID</th>\n",
       "      <th>Count</th>\n",
       "      <th>Open</th>\n",
       "      <th>High</th>\n",
       "      <th>Low</th>\n",
       "      <th>Close</th>\n",
       "      <th>Volume</th>\n",
       "      <th>VWAP</th>\n",
       "      <th>Target</th>\n",
       "    </tr>\n",
       "    <tr>\n",
       "      <th>timestamp</th>\n",
       "      <th></th>\n",
       "      <th></th>\n",
       "      <th></th>\n",
       "      <th></th>\n",
       "      <th></th>\n",
       "      <th></th>\n",
       "      <th></th>\n",
       "      <th></th>\n",
       "      <th></th>\n",
       "    </tr>\n",
       "  </thead>\n",
       "  <tbody>\n",
       "    <tr>\n",
       "      <th>1514764860</th>\n",
       "      <td>2</td>\n",
       "      <td>40</td>\n",
       "      <td>2376.5800</td>\n",
       "      <td>2399.5000</td>\n",
       "      <td>2357.1400</td>\n",
       "      <td>2374.590000</td>\n",
       "      <td>19.233005</td>\n",
       "      <td>2373.116392</td>\n",
       "      <td>-0.004218</td>\n",
       "    </tr>\n",
       "    <tr>\n",
       "      <th>1514764860</th>\n",
       "      <td>0</td>\n",
       "      <td>5</td>\n",
       "      <td>8.5300</td>\n",
       "      <td>8.5300</td>\n",
       "      <td>8.5300</td>\n",
       "      <td>8.530000</td>\n",
       "      <td>78.380000</td>\n",
       "      <td>8.530000</td>\n",
       "      <td>-0.014399</td>\n",
       "    </tr>\n",
       "    <tr>\n",
       "      <th>1514764860</th>\n",
       "      <td>1</td>\n",
       "      <td>229</td>\n",
       "      <td>13835.1940</td>\n",
       "      <td>14013.8000</td>\n",
       "      <td>13666.1100</td>\n",
       "      <td>13850.176000</td>\n",
       "      <td>31.550062</td>\n",
       "      <td>13827.062093</td>\n",
       "      <td>-0.014643</td>\n",
       "    </tr>\n",
       "    <tr>\n",
       "      <th>1514764860</th>\n",
       "      <td>5</td>\n",
       "      <td>32</td>\n",
       "      <td>7.6596</td>\n",
       "      <td>7.6596</td>\n",
       "      <td>7.6567</td>\n",
       "      <td>7.657600</td>\n",
       "      <td>6626.713370</td>\n",
       "      <td>7.657713</td>\n",
       "      <td>-0.013922</td>\n",
       "    </tr>\n",
       "    <tr>\n",
       "      <th>1514764860</th>\n",
       "      <td>7</td>\n",
       "      <td>5</td>\n",
       "      <td>25.9200</td>\n",
       "      <td>25.9200</td>\n",
       "      <td>25.8740</td>\n",
       "      <td>25.877000</td>\n",
       "      <td>121.087310</td>\n",
       "      <td>25.891363</td>\n",
       "      <td>-0.008264</td>\n",
       "    </tr>\n",
       "    <tr>\n",
       "      <th>1514764860</th>\n",
       "      <td>6</td>\n",
       "      <td>173</td>\n",
       "      <td>738.3025</td>\n",
       "      <td>746.0000</td>\n",
       "      <td>732.5100</td>\n",
       "      <td>738.507500</td>\n",
       "      <td>335.987856</td>\n",
       "      <td>738.839291</td>\n",
       "      <td>-0.004809</td>\n",
       "    </tr>\n",
       "    <tr>\n",
       "      <th>1514764860</th>\n",
       "      <td>9</td>\n",
       "      <td>167</td>\n",
       "      <td>225.3300</td>\n",
       "      <td>227.7800</td>\n",
       "      <td>222.9800</td>\n",
       "      <td>225.206667</td>\n",
       "      <td>411.896642</td>\n",
       "      <td>225.197944</td>\n",
       "      <td>-0.009791</td>\n",
       "    </tr>\n",
       "    <tr>\n",
       "      <th>1514764860</th>\n",
       "      <td>11</td>\n",
       "      <td>7</td>\n",
       "      <td>329.0900</td>\n",
       "      <td>329.8800</td>\n",
       "      <td>329.0900</td>\n",
       "      <td>329.460000</td>\n",
       "      <td>6.635710</td>\n",
       "      <td>329.454118</td>\n",
       "      <td>NaN</td>\n",
       "    </tr>\n",
       "  </tbody>\n",
       "</table>\n",
       "</div>"
      ],
      "text/plain": [
       "            Asset_ID  Count        Open        High         Low         Close  \\\n",
       "timestamp                                                                       \n",
       "1514764860         2     40   2376.5800   2399.5000   2357.1400   2374.590000   \n",
       "1514764860         0      5      8.5300      8.5300      8.5300      8.530000   \n",
       "1514764860         1    229  13835.1940  14013.8000  13666.1100  13850.176000   \n",
       "1514764860         5     32      7.6596      7.6596      7.6567      7.657600   \n",
       "1514764860         7      5     25.9200     25.9200     25.8740     25.877000   \n",
       "1514764860         6    173    738.3025    746.0000    732.5100    738.507500   \n",
       "1514764860         9    167    225.3300    227.7800    222.9800    225.206667   \n",
       "1514764860        11      7    329.0900    329.8800    329.0900    329.460000   \n",
       "\n",
       "                 Volume          VWAP    Target  \n",
       "timestamp                                        \n",
       "1514764860    19.233005   2373.116392 -0.004218  \n",
       "1514764860    78.380000      8.530000 -0.014399  \n",
       "1514764860    31.550062  13827.062093 -0.014643  \n",
       "1514764860  6626.713370      7.657713 -0.013922  \n",
       "1514764860   121.087310     25.891363 -0.008264  \n",
       "1514764860   335.987856    738.839291 -0.004809  \n",
       "1514764860   411.896642    225.197944 -0.009791  \n",
       "1514764860     6.635710    329.454118       NaN  "
      ]
     },
     "execution_count": 5,
     "metadata": {},
     "output_type": "execute_result"
    }
   ],
   "source": [
    "train_df.loc[train_df.index[0]]"
   ]
  },
  {
   "cell_type": "markdown",
   "id": "7dc566ed",
   "metadata": {
    "papermill": {
     "duration": 0.050102,
     "end_time": "2022-02-02T00:47:15.774134",
     "exception": false,
     "start_time": "2022-02-02T00:47:15.724032",
     "status": "completed"
    },
    "tags": []
   },
   "source": [
    "Let us find out the earliest timestamp for which all of our cryptocurrencies existed with numerical `Target` values."
   ]
  },
  {
   "cell_type": "code",
   "execution_count": 6,
   "id": "bbc86ead",
   "metadata": {
    "execution": {
     "iopub.execute_input": "2022-02-02T00:47:15.877850Z",
     "iopub.status.busy": "2022-02-02T00:47:15.877005Z",
     "iopub.status.idle": "2022-02-02T00:47:15.879543Z",
     "shell.execute_reply": "2022-02-02T00:47:15.878839Z",
     "shell.execute_reply.started": "2022-02-02T00:21:13.775832Z"
    },
    "papermill": {
     "duration": 0.05666,
     "end_time": "2022-02-02T00:47:15.879747",
     "exception": false,
     "start_time": "2022-02-02T00:47:15.823087",
     "status": "completed"
    },
    "tags": []
   },
   "outputs": [],
   "source": [
    "# for i in train_df.index.unique():\n",
    "#     if train_df.loc[i, 'Asset_ID'].sum() == sum(asset_details.index):\n",
    "#         print(i)\n",
    "#         first_idx = i\n",
    "#         break\n",
    "\n",
    "# this cell takes a while to run so I will just put the answer here\n",
    "first_idx = 1555080120"
   ]
  },
  {
   "cell_type": "markdown",
   "id": "6103fe24",
   "metadata": {
    "papermill": {
     "duration": 0.04932,
     "end_time": "2022-02-02T00:47:15.978527",
     "exception": false,
     "start_time": "2022-02-02T00:47:15.929207",
     "status": "completed"
    },
    "tags": []
   },
   "source": [
    "We can see that starting from this point leads to losing the first just under 30% of our training data."
   ]
  },
  {
   "cell_type": "code",
   "execution_count": 7,
   "id": "e89d72a2",
   "metadata": {
    "execution": {
     "iopub.execute_input": "2022-02-02T00:47:16.081569Z",
     "iopub.status.busy": "2022-02-02T00:47:16.080797Z",
     "iopub.status.idle": "2022-02-02T00:47:16.086737Z",
     "shell.execute_reply": "2022-02-02T00:47:16.087440Z",
     "shell.execute_reply.started": "2022-02-02T00:21:13.783795Z"
    },
    "papermill": {
     "duration": 0.059499,
     "end_time": "2022-02-02T00:47:16.087641",
     "exception": false,
     "start_time": "2022-02-02T00:47:16.028142",
     "status": "completed"
    },
    "tags": []
   },
   "outputs": [
    {
     "data": {
      "text/plain": [
       "29.992569978073846"
      ]
     },
     "execution_count": 7,
     "metadata": {},
     "output_type": "execute_result"
    }
   ],
   "source": [
    "(1-len(train_df.loc[first_idx:])/len(train_df))*100"
   ]
  },
  {
   "cell_type": "markdown",
   "id": "56352c96",
   "metadata": {
    "papermill": {
     "duration": 0.048963,
     "end_time": "2022-02-02T00:47:16.185608",
     "exception": false,
     "start_time": "2022-02-02T00:47:16.136645",
     "status": "completed"
    },
    "tags": []
   },
   "source": [
    "Let us get the last index of our data."
   ]
  },
  {
   "cell_type": "code",
   "execution_count": 8,
   "id": "b26fdba0",
   "metadata": {
    "execution": {
     "iopub.execute_input": "2022-02-02T00:47:16.288538Z",
     "iopub.status.busy": "2022-02-02T00:47:16.287769Z",
     "iopub.status.idle": "2022-02-02T00:47:16.293230Z",
     "shell.execute_reply": "2022-02-02T00:47:16.293849Z",
     "shell.execute_reply.started": "2022-02-02T00:21:13.797928Z"
    },
    "papermill": {
     "duration": 0.059138,
     "end_time": "2022-02-02T00:47:16.294060",
     "exception": false,
     "start_time": "2022-02-02T00:47:16.234922",
     "status": "completed"
    },
    "tags": []
   },
   "outputs": [
    {
     "data": {
      "text/plain": [
       "1632182400"
      ]
     },
     "execution_count": 8,
     "metadata": {},
     "output_type": "execute_result"
    }
   ],
   "source": [
    "last_idx = train_df.index[-1]\n",
    "last_idx"
   ]
  },
  {
   "cell_type": "markdown",
   "id": "63c49fb5",
   "metadata": {
    "papermill": {
     "duration": 0.059677,
     "end_time": "2022-02-02T00:47:16.466555",
     "exception": false,
     "start_time": "2022-02-02T00:47:16.406878",
     "status": "completed"
    },
    "tags": []
   },
   "source": [
    "## Feature Selection"
   ]
  },
  {
   "cell_type": "markdown",
   "id": "66ba3520",
   "metadata": {
    "papermill": {
     "duration": 0.04938,
     "end_time": "2022-02-02T00:47:16.565249",
     "exception": false,
     "start_time": "2022-02-02T00:47:16.515869",
     "status": "completed"
    },
    "tags": []
   },
   "source": [
    "Let us use our Binance Coin data to look at which features most correlate to the `Target` data. We can pad the data to get every minute and forward fill because according to the random walk hypothesis our best estimate for a rabdom walk time series is the previous value. "
   ]
  },
  {
   "cell_type": "code",
   "execution_count": 9,
   "id": "4b4f58a6",
   "metadata": {
    "execution": {
     "iopub.execute_input": "2022-02-02T00:47:16.667648Z",
     "iopub.status.busy": "2022-02-02T00:47:16.666890Z",
     "iopub.status.idle": "2022-02-02T00:47:17.862008Z",
     "shell.execute_reply": "2022-02-02T00:47:17.864256Z",
     "shell.execute_reply.started": "2022-02-02T00:21:13.811214Z"
    },
    "papermill": {
     "duration": 1.251051,
     "end_time": "2022-02-02T00:47:17.865273",
     "exception": false,
     "start_time": "2022-02-02T00:47:16.614222",
     "status": "completed"
    },
    "tags": []
   },
   "outputs": [
    {
     "data": {
      "text/html": [
       "<div>\n",
       "<style scoped>\n",
       "    .dataframe tbody tr th:only-of-type {\n",
       "        vertical-align: middle;\n",
       "    }\n",
       "\n",
       "    .dataframe tbody tr th {\n",
       "        vertical-align: top;\n",
       "    }\n",
       "\n",
       "    .dataframe thead th {\n",
       "        text-align: right;\n",
       "    }\n",
       "</style>\n",
       "<table border=\"1\" class=\"dataframe\">\n",
       "  <thead>\n",
       "    <tr style=\"text-align: right;\">\n",
       "      <th></th>\n",
       "      <th>Asset_ID</th>\n",
       "      <th>Count</th>\n",
       "      <th>Open</th>\n",
       "      <th>High</th>\n",
       "      <th>Low</th>\n",
       "      <th>Close</th>\n",
       "      <th>Volume</th>\n",
       "      <th>VWAP</th>\n",
       "      <th>Target</th>\n",
       "    </tr>\n",
       "    <tr>\n",
       "      <th>timestamp</th>\n",
       "      <th></th>\n",
       "      <th></th>\n",
       "      <th></th>\n",
       "      <th></th>\n",
       "      <th></th>\n",
       "      <th></th>\n",
       "      <th></th>\n",
       "      <th></th>\n",
       "      <th></th>\n",
       "    </tr>\n",
       "  </thead>\n",
       "  <tbody>\n",
       "    <tr>\n",
       "      <th>1555080120</th>\n",
       "      <td>0</td>\n",
       "      <td>12</td>\n",
       "      <td>17.8425</td>\n",
       "      <td>17.8500</td>\n",
       "      <td>17.8351</td>\n",
       "      <td>17.8500</td>\n",
       "      <td>124.38</td>\n",
       "      <td>17.844331</td>\n",
       "      <td>0.000784</td>\n",
       "    </tr>\n",
       "    <tr>\n",
       "      <th>1555080180</th>\n",
       "      <td>0</td>\n",
       "      <td>8</td>\n",
       "      <td>17.8498</td>\n",
       "      <td>17.8500</td>\n",
       "      <td>17.8497</td>\n",
       "      <td>17.8498</td>\n",
       "      <td>720.49</td>\n",
       "      <td>17.849790</td>\n",
       "      <td>0.002931</td>\n",
       "    </tr>\n",
       "    <tr>\n",
       "      <th>1555080240</th>\n",
       "      <td>0</td>\n",
       "      <td>36</td>\n",
       "      <td>17.8499</td>\n",
       "      <td>17.8499</td>\n",
       "      <td>17.8082</td>\n",
       "      <td>17.8082</td>\n",
       "      <td>1083.42</td>\n",
       "      <td>17.839889</td>\n",
       "      <td>0.003159</td>\n",
       "    </tr>\n",
       "    <tr>\n",
       "      <th>1555080300</th>\n",
       "      <td>0</td>\n",
       "      <td>19</td>\n",
       "      <td>17.8240</td>\n",
       "      <td>17.8240</td>\n",
       "      <td>17.8168</td>\n",
       "      <td>17.8209</td>\n",
       "      <td>519.36</td>\n",
       "      <td>17.819413</td>\n",
       "      <td>0.003851</td>\n",
       "    </tr>\n",
       "    <tr>\n",
       "      <th>1555080360</th>\n",
       "      <td>0</td>\n",
       "      <td>12</td>\n",
       "      <td>17.8210</td>\n",
       "      <td>17.8262</td>\n",
       "      <td>17.8114</td>\n",
       "      <td>17.8114</td>\n",
       "      <td>384.67</td>\n",
       "      <td>17.821414</td>\n",
       "      <td>0.003932</td>\n",
       "    </tr>\n",
       "  </tbody>\n",
       "</table>\n",
       "</div>"
      ],
      "text/plain": [
       "            Asset_ID  Count     Open     High      Low    Close   Volume  \\\n",
       "timestamp                                                                  \n",
       "1555080120         0     12  17.8425  17.8500  17.8351  17.8500   124.38   \n",
       "1555080180         0      8  17.8498  17.8500  17.8497  17.8498   720.49   \n",
       "1555080240         0     36  17.8499  17.8499  17.8082  17.8082  1083.42   \n",
       "1555080300         0     19  17.8240  17.8240  17.8168  17.8209   519.36   \n",
       "1555080360         0     12  17.8210  17.8262  17.8114  17.8114   384.67   \n",
       "\n",
       "                 VWAP    Target  \n",
       "timestamp                        \n",
       "1555080120  17.844331  0.000784  \n",
       "1555080180  17.849790  0.002931  \n",
       "1555080240  17.839889  0.003159  \n",
       "1555080300  17.819413  0.003851  \n",
       "1555080360  17.821414  0.003932  "
      ]
     },
     "execution_count": 9,
     "metadata": {},
     "output_type": "execute_result"
    }
   ],
   "source": [
    "bnb = train_df[train_df[\"Asset_ID\"]==0].reindex(range(first_idx, \n",
    "                                                      last_idx+60, 60),method='pad').fillna(method='ffill')\n",
    "bnb.head()"
   ]
  },
  {
   "cell_type": "markdown",
   "id": "b67bcaa3",
   "metadata": {
    "papermill": {
     "duration": 0.050242,
     "end_time": "2022-02-02T00:47:18.012521",
     "exception": false,
     "start_time": "2022-02-02T00:47:17.962279",
     "status": "completed"
    },
    "tags": []
   },
   "source": [
    "Let us see which features of the data best correlate with `Target`."
   ]
  },
  {
   "cell_type": "code",
   "execution_count": 10,
   "id": "91cc2a6e",
   "metadata": {
    "execution": {
     "iopub.execute_input": "2022-02-02T00:47:18.122856Z",
     "iopub.status.busy": "2022-02-02T00:47:18.122018Z",
     "iopub.status.idle": "2022-02-02T00:47:18.537147Z",
     "shell.execute_reply": "2022-02-02T00:47:18.536530Z",
     "shell.execute_reply.started": "2022-02-02T00:21:14.649019Z"
    },
    "papermill": {
     "duration": 0.473557,
     "end_time": "2022-02-02T00:47:18.537316",
     "exception": false,
     "start_time": "2022-02-02T00:47:18.063759",
     "status": "completed"
    },
    "tags": []
   },
   "outputs": [
    {
     "data": {
      "text/plain": [
       "Count     0.015525\n",
       "Volume    0.014806\n",
       "Open     -0.000572\n",
       "Low      -0.000578\n",
       "VWAP     -0.000580\n",
       "Close    -0.000581\n",
       "High     -0.000582\n",
       "Name: Target, dtype: float64"
      ]
     },
     "execution_count": 10,
     "metadata": {},
     "output_type": "execute_result"
    }
   ],
   "source": [
    "bnb.corr()['Target'].iloc[1:-1].sort_values(ascending=False)"
   ]
  },
  {
   "cell_type": "markdown",
   "id": "d13605a6",
   "metadata": {
    "papermill": {
     "duration": 0.047325,
     "end_time": "2022-02-02T00:47:18.648814",
     "exception": false,
     "start_time": "2022-02-02T00:47:18.601489",
     "status": "completed"
    },
    "tags": []
   },
   "source": [
    "It appears that Count and Volume have the greatest absolute value of their correlation, albeit a small one < 0.016. Let's look for the partial autocorrelation for these features. We can see that these values are  dependent on their ~ 10 previous values."
   ]
  },
  {
   "cell_type": "code",
   "execution_count": 11,
   "id": "432ac495",
   "metadata": {
    "execution": {
     "iopub.execute_input": "2022-02-02T00:47:18.744830Z",
     "iopub.status.busy": "2022-02-02T00:47:18.743681Z",
     "iopub.status.idle": "2022-02-02T00:47:25.591628Z",
     "shell.execute_reply": "2022-02-02T00:47:25.590900Z",
     "shell.execute_reply.started": "2022-02-02T00:21:15.058451Z"
    },
    "papermill": {
     "duration": 6.897403,
     "end_time": "2022-02-02T00:47:25.591798",
     "exception": false,
     "start_time": "2022-02-02T00:47:18.694395",
     "status": "completed"
    },
    "tags": []
   },
   "outputs": [
    {
     "data": {
      "image/png": "[encoded data removed]",
      "text/plain": [
       "<Figure size 432x288 with 1 Axes>"
      ]
     },
     "metadata": {
      "needs_background": "light"
     },
     "output_type": "display_data"
    }
   ],
   "source": [
    "plot_pacf(bnb['Count'], method='ywm');"
   ]
  },
  {
   "cell_type": "code",
   "execution_count": 12,
   "id": "49da1488",
   "metadata": {
    "execution": {
     "iopub.execute_input": "2022-02-02T00:47:25.690106Z",
     "iopub.status.busy": "2022-02-02T00:47:25.689441Z",
     "iopub.status.idle": "2022-02-02T00:47:32.720027Z",
     "shell.execute_reply": "2022-02-02T00:47:32.719356Z",
     "shell.execute_reply.started": "2022-02-02T00:21:24.437248Z"
    },
    "papermill": {
     "duration": 7.08143,
     "end_time": "2022-02-02T00:47:32.720209",
     "exception": false,
     "start_time": "2022-02-02T00:47:25.638779",
     "status": "completed"
    },
    "tags": []
   },
   "outputs": [
    {
     "data": {
      "image/png": "[encoded data removed]",
      "text/plain": [
       "<Figure size 432x288 with 1 Axes>"
      ]
     },
     "metadata": {
      "needs_background": "light"
     },
     "output_type": "display_data"
    }
   ],
   "source": [
    "plot_pacf(bnb['Volume'], method='ywm');"
   ]
  },
  {
   "cell_type": "markdown",
   "id": "38066266",
   "metadata": {
    "papermill": {
     "duration": 0.047863,
     "end_time": "2022-02-02T00:47:32.815678",
     "exception": false,
     "start_time": "2022-02-02T00:47:32.767815",
     "status": "completed"
    },
    "tags": []
   },
   "source": [
    "We can also use principal component analysis (PCA) to find features that correlate well with the overall trend of the data. We can see that almost 70% of the variance of the data can be explained by the first principal axis."
   ]
  },
  {
   "cell_type": "code",
   "execution_count": 13,
   "id": "31349b48",
   "metadata": {
    "execution": {
     "iopub.execute_input": "2022-02-02T00:47:32.919026Z",
     "iopub.status.busy": "2022-02-02T00:47:32.918338Z",
     "iopub.status.idle": "2022-02-02T00:47:34.177107Z",
     "shell.execute_reply": "2022-02-02T00:47:34.177611Z",
     "shell.execute_reply.started": "2022-02-02T00:21:33.323575Z"
    },
    "papermill": {
     "duration": 1.3139,
     "end_time": "2022-02-02T00:47:34.177787",
     "exception": false,
     "start_time": "2022-02-02T00:47:32.863887",
     "status": "completed"
    },
    "tags": []
   },
   "outputs": [
    {
     "data": {
      "image/png": "[encoded data removed]",
      "text/plain": [
       "<Figure size 432x288 with 1 Axes>"
      ]
     },
     "metadata": {
      "needs_background": "light"
     },
     "output_type": "display_data"
    }
   ],
   "source": [
    "X_bnb_pca = bnb.to_numpy()\n",
    "\n",
    "scaler = StandardScaler()\n",
    "X_bnb_pca = scaler.fit_transform(X_bnb_pca)\n",
    "\n",
    "model_bnb_pca = PCA()\n",
    "Z_bnb_pca = model_bnb_pca.fit_transform(X_bnb_pca)\n",
    "\n",
    "plt.plot(model_bnb_pca.explained_variance_ratio_);"
   ]
  },
  {
   "cell_type": "markdown",
   "id": "f21a0216",
   "metadata": {
    "papermill": {
     "duration": 0.047383,
     "end_time": "2022-02-02T00:47:34.272933",
     "exception": false,
     "start_time": "2022-02-02T00:47:34.225550",
     "status": "completed"
    },
    "tags": []
   },
   "source": [
    "We can see that the most of the variance in the data can be explained by `High`."
   ]
  },
  {
   "cell_type": "code",
   "execution_count": 14,
   "id": "d7763fbf",
   "metadata": {
    "execution": {
     "iopub.execute_input": "2022-02-02T00:47:34.378361Z",
     "iopub.status.busy": "2022-02-02T00:47:34.377274Z",
     "iopub.status.idle": "2022-02-02T00:47:34.934704Z",
     "shell.execute_reply": "2022-02-02T00:47:34.934105Z",
     "shell.execute_reply.started": "2022-02-02T00:21:34.663288Z"
    },
    "papermill": {
     "duration": 0.61348,
     "end_time": "2022-02-02T00:47:34.934889",
     "exception": false,
     "start_time": "2022-02-02T00:47:34.321409",
     "status": "completed"
    },
    "tags": []
   },
   "outputs": [
    {
     "data": {
      "text/plain": [
       "High      0.992978\n",
       "Open      0.992851\n",
       "VWAP      0.992839\n",
       "Close     0.992839\n",
       "Low       0.992695\n",
       "Count     0.663577\n",
       "Volume    0.139117\n",
       "Target    0.002163\n",
       "Name: PC1, dtype: float64"
      ]
     },
     "execution_count": 14,
     "metadata": {},
     "output_type": "execute_result"
    }
   ],
   "source": [
    "Z_bnb_pca_df = pd.DataFrame(index=bnb.index)\n",
    "Z_bnb_pca_df['PC1'] = Z_bnb_pca[:,0]\n",
    "joined = bnb.join(Z_bnb_pca_df)\n",
    "joined.corr()['PC1'].iloc[1:-1].sort_values(ascending=False)"
   ]
  },
  {
   "cell_type": "markdown",
   "id": "785b73b0",
   "metadata": {
    "papermill": {
     "duration": 0.04922,
     "end_time": "2022-02-02T00:47:35.035800",
     "exception": false,
     "start_time": "2022-02-02T00:47:34.986580",
     "status": "completed"
    },
    "tags": []
   },
   "source": [
    "We can see that the `High` price is based mostly on its previous value."
   ]
  },
  {
   "cell_type": "code",
   "execution_count": 15,
   "id": "abc4667f",
   "metadata": {
    "execution": {
     "iopub.execute_input": "2022-02-02T00:47:35.137728Z",
     "iopub.status.busy": "2022-02-02T00:47:35.136888Z",
     "iopub.status.idle": "2022-02-02T00:47:42.048627Z",
     "shell.execute_reply": "2022-02-02T00:47:42.047949Z",
     "shell.execute_reply.started": "2022-02-02T00:21:35.291685Z"
    },
    "papermill": {
     "duration": 6.964057,
     "end_time": "2022-02-02T00:47:42.048805",
     "exception": false,
     "start_time": "2022-02-02T00:47:35.084748",
     "status": "completed"
    },
    "tags": []
   },
   "outputs": [
    {
     "data": {
      "image/png": "[encoded data removed]",
      "text/plain": [
       "<Figure size 432x288 with 1 Axes>"
      ]
     },
     "metadata": {
      "needs_background": "light"
     },
     "output_type": "display_data"
    }
   ],
   "source": [
    "plot_pacf(bnb['High'], method='ywm');"
   ]
  },
  {
   "cell_type": "markdown",
   "id": "ff1eda0a",
   "metadata": {
    "papermill": {
     "duration": 0.049673,
     "end_time": "2022-02-02T00:47:42.148828",
     "exception": false,
     "start_time": "2022-02-02T00:47:42.099155",
     "status": "completed"
    },
    "tags": []
   },
   "source": [
    "Based on these results, let us use `Count`, `High`, and `Volume` as the features for our linear regression model."
   ]
  },
  {
   "cell_type": "markdown",
   "id": "1e6055d8",
   "metadata": {
    "papermill": {
     "duration": 0.049566,
     "end_time": "2022-02-02T00:47:42.248293",
     "exception": false,
     "start_time": "2022-02-02T00:47:42.198727",
     "status": "completed"
    },
    "tags": []
   },
   "source": [
    "## Cleaning and Training the Data"
   ]
  },
  {
   "cell_type": "markdown",
   "id": "c2480297",
   "metadata": {
    "papermill": {
     "duration": 0.049646,
     "end_time": "2022-02-02T00:47:42.348189",
     "exception": false,
     "start_time": "2022-02-02T00:47:42.298543",
     "status": "completed"
    },
    "tags": []
   },
   "source": [
    "Let us make a list of `DataFrame`s for each asset."
   ]
  },
  {
   "cell_type": "code",
   "execution_count": 16,
   "id": "67926ab3",
   "metadata": {
    "execution": {
     "iopub.execute_input": "2022-02-02T00:47:42.451700Z",
     "iopub.status.busy": "2022-02-02T00:47:42.450901Z",
     "iopub.status.idle": "2022-02-02T00:47:51.647749Z",
     "shell.execute_reply": "2022-02-02T00:47:51.647141Z",
     "shell.execute_reply.started": "2022-02-02T00:21:43.549910Z"
    },
    "papermill": {
     "duration": 9.24973,
     "end_time": "2022-02-02T00:47:51.647943",
     "exception": false,
     "start_time": "2022-02-02T00:47:42.398213",
     "status": "completed"
    },
    "tags": []
   },
   "outputs": [],
   "source": [
    "train_df_list = []\n",
    "for asset_id in range(len(asset_details)):\n",
    "    train_df_list.append(train_df[train_df[\"Asset_ID\"]==asset_id].reindex(range(first_idx, \n",
    "                                                    last_idx+60, 60),method='pad').fillna(method='ffill').fillna(method='bfill'))"
   ]
  },
  {
   "cell_type": "code",
   "execution_count": 17,
   "id": "c8ac848f",
   "metadata": {
    "execution": {
     "iopub.execute_input": "2022-02-02T00:47:51.752805Z",
     "iopub.status.busy": "2022-02-02T00:47:51.752141Z",
     "iopub.status.idle": "2022-02-02T00:47:51.768124Z",
     "shell.execute_reply": "2022-02-02T00:47:51.767393Z",
     "shell.execute_reply.started": "2022-02-02T00:21:53.960536Z"
    },
    "papermill": {
     "duration": 0.068819,
     "end_time": "2022-02-02T00:47:51.768302",
     "exception": false,
     "start_time": "2022-02-02T00:47:51.699483",
     "status": "completed"
    },
    "tags": []
   },
   "outputs": [
    {
     "data": {
      "text/html": [
       "<div>\n",
       "<style scoped>\n",
       "    .dataframe tbody tr th:only-of-type {\n",
       "        vertical-align: middle;\n",
       "    }\n",
       "\n",
       "    .dataframe tbody tr th {\n",
       "        vertical-align: top;\n",
       "    }\n",
       "\n",
       "    .dataframe thead th {\n",
       "        text-align: right;\n",
       "    }\n",
       "</style>\n",
       "<table border=\"1\" class=\"dataframe\">\n",
       "  <thead>\n",
       "    <tr style=\"text-align: right;\">\n",
       "      <th></th>\n",
       "      <th>Asset_ID</th>\n",
       "      <th>Count</th>\n",
       "      <th>Open</th>\n",
       "      <th>High</th>\n",
       "      <th>Low</th>\n",
       "      <th>Close</th>\n",
       "      <th>Volume</th>\n",
       "      <th>VWAP</th>\n",
       "      <th>Target</th>\n",
       "    </tr>\n",
       "    <tr>\n",
       "      <th>timestamp</th>\n",
       "      <th></th>\n",
       "      <th></th>\n",
       "      <th></th>\n",
       "      <th></th>\n",
       "      <th></th>\n",
       "      <th></th>\n",
       "      <th></th>\n",
       "      <th></th>\n",
       "      <th></th>\n",
       "    </tr>\n",
       "  </thead>\n",
       "  <tbody>\n",
       "    <tr>\n",
       "      <th>1555080120</th>\n",
       "      <td>0</td>\n",
       "      <td>12</td>\n",
       "      <td>17.8425</td>\n",
       "      <td>17.8500</td>\n",
       "      <td>17.8351</td>\n",
       "      <td>17.8500</td>\n",
       "      <td>124.38</td>\n",
       "      <td>17.844331</td>\n",
       "      <td>0.000784</td>\n",
       "    </tr>\n",
       "    <tr>\n",
       "      <th>1555080180</th>\n",
       "      <td>0</td>\n",
       "      <td>8</td>\n",
       "      <td>17.8498</td>\n",
       "      <td>17.8500</td>\n",
       "      <td>17.8497</td>\n",
       "      <td>17.8498</td>\n",
       "      <td>720.49</td>\n",
       "      <td>17.849790</td>\n",
       "      <td>0.002931</td>\n",
       "    </tr>\n",
       "    <tr>\n",
       "      <th>1555080240</th>\n",
       "      <td>0</td>\n",
       "      <td>36</td>\n",
       "      <td>17.8499</td>\n",
       "      <td>17.8499</td>\n",
       "      <td>17.8082</td>\n",
       "      <td>17.8082</td>\n",
       "      <td>1083.42</td>\n",
       "      <td>17.839889</td>\n",
       "      <td>0.003159</td>\n",
       "    </tr>\n",
       "    <tr>\n",
       "      <th>1555080300</th>\n",
       "      <td>0</td>\n",
       "      <td>19</td>\n",
       "      <td>17.8240</td>\n",
       "      <td>17.8240</td>\n",
       "      <td>17.8168</td>\n",
       "      <td>17.8209</td>\n",
       "      <td>519.36</td>\n",
       "      <td>17.819413</td>\n",
       "      <td>0.003851</td>\n",
       "    </tr>\n",
       "    <tr>\n",
       "      <th>1555080360</th>\n",
       "      <td>0</td>\n",
       "      <td>12</td>\n",
       "      <td>17.8210</td>\n",
       "      <td>17.8262</td>\n",
       "      <td>17.8114</td>\n",
       "      <td>17.8114</td>\n",
       "      <td>384.67</td>\n",
       "      <td>17.821414</td>\n",
       "      <td>0.003932</td>\n",
       "    </tr>\n",
       "  </tbody>\n",
       "</table>\n",
       "</div>"
      ],
      "text/plain": [
       "            Asset_ID  Count     Open     High      Low    Close   Volume  \\\n",
       "timestamp                                                                  \n",
       "1555080120         0     12  17.8425  17.8500  17.8351  17.8500   124.38   \n",
       "1555080180         0      8  17.8498  17.8500  17.8497  17.8498   720.49   \n",
       "1555080240         0     36  17.8499  17.8499  17.8082  17.8082  1083.42   \n",
       "1555080300         0     19  17.8240  17.8240  17.8168  17.8209   519.36   \n",
       "1555080360         0     12  17.8210  17.8262  17.8114  17.8114   384.67   \n",
       "\n",
       "                 VWAP    Target  \n",
       "timestamp                        \n",
       "1555080120  17.844331  0.000784  \n",
       "1555080180  17.849790  0.002931  \n",
       "1555080240  17.839889  0.003159  \n",
       "1555080300  17.819413  0.003851  \n",
       "1555080360  17.821414  0.003932  "
      ]
     },
     "execution_count": 17,
     "metadata": {},
     "output_type": "execute_result"
    }
   ],
   "source": [
    "train_df_list[0].head()"
   ]
  },
  {
   "cell_type": "code",
   "execution_count": 18,
   "id": "13633eb6",
   "metadata": {
    "execution": {
     "iopub.execute_input": "2022-02-02T00:47:51.874535Z",
     "iopub.status.busy": "2022-02-02T00:47:51.873773Z",
     "iopub.status.idle": "2022-02-02T00:47:51.901986Z",
     "shell.execute_reply": "2022-02-02T00:47:51.902623Z",
     "shell.execute_reply.started": "2022-02-02T00:21:53.980326Z"
    },
    "papermill": {
     "duration": 0.084322,
     "end_time": "2022-02-02T00:47:51.902825",
     "exception": false,
     "start_time": "2022-02-02T00:47:51.818503",
     "status": "completed"
    },
    "tags": []
   },
   "outputs": [
    {
     "data": {
      "text/plain": [
       "Asset_ID    0\n",
       "Count       0\n",
       "Open        0\n",
       "High        0\n",
       "Low         0\n",
       "Close       0\n",
       "Volume      0\n",
       "VWAP        0\n",
       "Target      0\n",
       "dtype: int64"
      ]
     },
     "execution_count": 18,
     "metadata": {},
     "output_type": "execute_result"
    }
   ],
   "source": [
    "train_df_list[0].isna().sum()"
   ]
  },
  {
   "cell_type": "markdown",
   "id": "8cb7b9d7",
   "metadata": {
    "papermill": {
     "duration": 0.050885,
     "end_time": "2022-02-02T00:47:52.003297",
     "exception": false,
     "start_time": "2022-02-02T00:47:51.952412",
     "status": "completed"
    },
    "tags": []
   },
   "source": [
    "Let us now change that list to reflect only the features that we want for our linear regression model."
   ]
  },
  {
   "cell_type": "code",
   "execution_count": 19,
   "id": "41609781",
   "metadata": {
    "execution": {
     "iopub.execute_input": "2022-02-02T00:47:52.119819Z",
     "iopub.status.busy": "2022-02-02T00:47:52.119014Z",
     "iopub.status.idle": "2022-02-02T00:47:52.381140Z",
     "shell.execute_reply": "2022-02-02T00:47:52.380314Z",
     "shell.execute_reply.started": "2022-02-02T00:21:54.023627Z"
    },
    "papermill": {
     "duration": 0.327821,
     "end_time": "2022-02-02T00:47:52.381337",
     "exception": false,
     "start_time": "2022-02-02T00:47:52.053516",
     "status": "completed"
    },
    "tags": []
   },
   "outputs": [],
   "source": [
    "X_list = []\n",
    "for i in range(len(train_df_list)):\n",
    "    X_list.append(train_df_list[i][['Count', 'High', 'Volume']])"
   ]
  },
  {
   "cell_type": "code",
   "execution_count": 20,
   "id": "6843d6ee",
   "metadata": {
    "execution": {
     "iopub.execute_input": "2022-02-02T00:47:52.494513Z",
     "iopub.status.busy": "2022-02-02T00:47:52.493762Z",
     "iopub.status.idle": "2022-02-02T00:47:52.497185Z",
     "shell.execute_reply": "2022-02-02T00:47:52.496520Z",
     "shell.execute_reply.started": "2022-02-02T00:21:54.290242Z"
    },
    "papermill": {
     "duration": 0.064605,
     "end_time": "2022-02-02T00:47:52.497362",
     "exception": false,
     "start_time": "2022-02-02T00:47:52.432757",
     "status": "completed"
    },
    "tags": []
   },
   "outputs": [
    {
     "data": {
      "text/html": [
       "<div>\n",
       "<style scoped>\n",
       "    .dataframe tbody tr th:only-of-type {\n",
       "        vertical-align: middle;\n",
       "    }\n",
       "\n",
       "    .dataframe tbody tr th {\n",
       "        vertical-align: top;\n",
       "    }\n",
       "\n",
       "    .dataframe thead th {\n",
       "        text-align: right;\n",
       "    }\n",
       "</style>\n",
       "<table border=\"1\" class=\"dataframe\">\n",
       "  <thead>\n",
       "    <tr style=\"text-align: right;\">\n",
       "      <th></th>\n",
       "      <th>Count</th>\n",
       "      <th>High</th>\n",
       "      <th>Volume</th>\n",
       "    </tr>\n",
       "    <tr>\n",
       "      <th>timestamp</th>\n",
       "      <th></th>\n",
       "      <th></th>\n",
       "      <th></th>\n",
       "    </tr>\n",
       "  </thead>\n",
       "  <tbody>\n",
       "    <tr>\n",
       "      <th>1555080120</th>\n",
       "      <td>12</td>\n",
       "      <td>17.8500</td>\n",
       "      <td>124.38</td>\n",
       "    </tr>\n",
       "    <tr>\n",
       "      <th>1555080180</th>\n",
       "      <td>8</td>\n",
       "      <td>17.8500</td>\n",
       "      <td>720.49</td>\n",
       "    </tr>\n",
       "    <tr>\n",
       "      <th>1555080240</th>\n",
       "      <td>36</td>\n",
       "      <td>17.8499</td>\n",
       "      <td>1083.42</td>\n",
       "    </tr>\n",
       "    <tr>\n",
       "      <th>1555080300</th>\n",
       "      <td>19</td>\n",
       "      <td>17.8240</td>\n",
       "      <td>519.36</td>\n",
       "    </tr>\n",
       "    <tr>\n",
       "      <th>1555080360</th>\n",
       "      <td>12</td>\n",
       "      <td>17.8262</td>\n",
       "      <td>384.67</td>\n",
       "    </tr>\n",
       "  </tbody>\n",
       "</table>\n",
       "</div>"
      ],
      "text/plain": [
       "            Count     High   Volume\n",
       "timestamp                          \n",
       "1555080120     12  17.8500   124.38\n",
       "1555080180      8  17.8500   720.49\n",
       "1555080240     36  17.8499  1083.42\n",
       "1555080300     19  17.8240   519.36\n",
       "1555080360     12  17.8262   384.67"
      ]
     },
     "execution_count": 20,
     "metadata": {},
     "output_type": "execute_result"
    }
   ],
   "source": [
    "X_list[0].head()"
   ]
  },
  {
   "cell_type": "markdown",
   "id": "b1a44c4c",
   "metadata": {
    "papermill": {
     "duration": 0.051822,
     "end_time": "2022-02-02T00:47:52.602576",
     "exception": false,
     "start_time": "2022-02-02T00:47:52.550754",
     "status": "completed"
    },
    "tags": []
   },
   "source": [
    "We can make our list for the target values we will use to train our model."
   ]
  },
  {
   "cell_type": "code",
   "execution_count": 21,
   "id": "ad189251",
   "metadata": {
    "execution": {
     "iopub.execute_input": "2022-02-02T00:47:52.711734Z",
     "iopub.status.busy": "2022-02-02T00:47:52.711069Z",
     "iopub.status.idle": "2022-02-02T00:47:52.714800Z",
     "shell.execute_reply": "2022-02-02T00:47:52.714190Z",
     "shell.execute_reply.started": "2022-02-02T00:21:54.306106Z"
    },
    "papermill": {
     "duration": 0.06102,
     "end_time": "2022-02-02T00:47:52.714985",
     "exception": false,
     "start_time": "2022-02-02T00:47:52.653965",
     "status": "completed"
    },
    "tags": []
   },
   "outputs": [],
   "source": [
    "y_list = []\n",
    "for i in range(len(train_df_list)):\n",
    "    y_list.append(train_df_list[i]['Target'])"
   ]
  },
  {
   "cell_type": "markdown",
   "id": "000e203c",
   "metadata": {
    "papermill": {
     "duration": 0.051507,
     "end_time": "2022-02-02T00:47:52.818024",
     "exception": false,
     "start_time": "2022-02-02T00:47:52.766517",
     "status": "completed"
    },
    "tags": []
   },
   "source": [
    "Let us now set the training and testing window. We have just under 2.5 years of data here, so let's make the test set the last month. We will create our train and test sets and then scale them before using them to train and test our model."
   ]
  },
  {
   "cell_type": "code",
   "execution_count": 22,
   "id": "1d7d788e",
   "metadata": {
    "execution": {
     "iopub.execute_input": "2022-02-02T00:47:52.925145Z",
     "iopub.status.busy": "2022-02-02T00:47:52.924104Z",
     "iopub.status.idle": "2022-02-02T00:47:52.926504Z",
     "shell.execute_reply": "2022-02-02T00:47:52.927026Z",
     "shell.execute_reply.started": "2022-02-02T00:21:54.321464Z"
    },
    "papermill": {
     "duration": 0.057688,
     "end_time": "2022-02-02T00:47:52.927212",
     "exception": false,
     "start_time": "2022-02-02T00:47:52.869524",
     "status": "completed"
    },
    "tags": []
   },
   "outputs": [],
   "source": [
    "Ntest = 43830 # 1 month in minutes"
   ]
  },
  {
   "cell_type": "code",
   "execution_count": 23,
   "id": "2f1620ba",
   "metadata": {
    "execution": {
     "iopub.execute_input": "2022-02-02T00:47:53.035921Z",
     "iopub.status.busy": "2022-02-02T00:47:53.034757Z",
     "iopub.status.idle": "2022-02-02T00:47:53.232390Z",
     "shell.execute_reply": "2022-02-02T00:47:53.231822Z",
     "shell.execute_reply.started": "2022-02-02T00:21:54.338441Z"
    },
    "papermill": {
     "duration": 0.254936,
     "end_time": "2022-02-02T00:47:53.232570",
     "exception": false,
     "start_time": "2022-02-02T00:47:52.977634",
     "status": "completed"
    },
    "tags": []
   },
   "outputs": [],
   "source": [
    "X_list_train = []\n",
    "for i in range(len(train_df_list)):\n",
    "    X_list_train.append(X_list[i].iloc[:-Ntest].to_numpy())"
   ]
  },
  {
   "cell_type": "code",
   "execution_count": 24,
   "id": "21820551",
   "metadata": {
    "execution": {
     "iopub.execute_input": "2022-02-02T00:47:53.336706Z",
     "iopub.status.busy": "2022-02-02T00:47:53.335763Z",
     "iopub.status.idle": "2022-02-02T00:47:53.340970Z",
     "shell.execute_reply": "2022-02-02T00:47:53.341577Z",
     "shell.execute_reply.started": "2022-02-02T00:21:54.662978Z"
    },
    "papermill": {
     "duration": 0.059029,
     "end_time": "2022-02-02T00:47:53.341748",
     "exception": false,
     "start_time": "2022-02-02T00:47:53.282719",
     "status": "completed"
    },
    "tags": []
   },
   "outputs": [],
   "source": [
    "y_list_train = []\n",
    "for i in range(len(train_df_list)):\n",
    "    y_list_train.append(y_list[i].iloc[:-Ntest].to_numpy())"
   ]
  },
  {
   "cell_type": "code",
   "execution_count": 25,
   "id": "0c41aae5",
   "metadata": {
    "execution": {
     "iopub.execute_input": "2022-02-02T00:47:53.445653Z",
     "iopub.status.busy": "2022-02-02T00:47:53.444699Z",
     "iopub.status.idle": "2022-02-02T00:47:53.461763Z",
     "shell.execute_reply": "2022-02-02T00:47:53.462311Z",
     "shell.execute_reply.started": "2022-02-02T00:21:54.671326Z"
    },
    "papermill": {
     "duration": 0.07077,
     "end_time": "2022-02-02T00:47:53.462519",
     "exception": false,
     "start_time": "2022-02-02T00:47:53.391749",
     "status": "completed"
    },
    "tags": []
   },
   "outputs": [],
   "source": [
    "X_list_test = []\n",
    "for i in range(len(train_df_list)):\n",
    "    X_list_test.append(X_list[i].iloc[-Ntest:].to_numpy())"
   ]
  },
  {
   "cell_type": "code",
   "execution_count": 26,
   "id": "13de6554",
   "metadata": {
    "execution": {
     "iopub.execute_input": "2022-02-02T00:47:53.571891Z",
     "iopub.status.busy": "2022-02-02T00:47:53.568785Z",
     "iopub.status.idle": "2022-02-02T00:47:53.573785Z",
     "shell.execute_reply": "2022-02-02T00:47:53.574400Z",
     "shell.execute_reply.started": "2022-02-02T00:21:54.701365Z"
    },
    "papermill": {
     "duration": 0.059998,
     "end_time": "2022-02-02T00:47:53.574575",
     "exception": false,
     "start_time": "2022-02-02T00:47:53.514577",
     "status": "completed"
    },
    "tags": []
   },
   "outputs": [],
   "source": [
    "y_list_test = []\n",
    "for i in range(len(train_df_list)):\n",
    "    y_list_test.append(y_list[i].iloc[-Ntest:].to_numpy())"
   ]
  },
  {
   "cell_type": "markdown",
   "id": "8a40acf2",
   "metadata": {
    "papermill": {
     "duration": 0.0498,
     "end_time": "2022-02-02T00:47:53.674334",
     "exception": false,
     "start_time": "2022-02-02T00:47:53.624534",
     "status": "completed"
    },
    "tags": []
   },
   "source": [
    "Now let us scale the data."
   ]
  },
  {
   "cell_type": "code",
   "execution_count": 27,
   "id": "95678047",
   "metadata": {
    "execution": {
     "iopub.execute_input": "2022-02-02T00:47:53.780803Z",
     "iopub.status.busy": "2022-02-02T00:47:53.779813Z",
     "iopub.status.idle": "2022-02-02T00:47:55.089125Z",
     "shell.execute_reply": "2022-02-02T00:47:55.088561Z",
     "shell.execute_reply.started": "2022-02-02T00:21:54.709667Z"
    },
    "papermill": {
     "duration": 1.363696,
     "end_time": "2022-02-02T00:47:55.089281",
     "exception": false,
     "start_time": "2022-02-02T00:47:53.725585",
     "status": "completed"
    },
    "tags": []
   },
   "outputs": [],
   "source": [
    "X_list_train_scaled = []\n",
    "for i in range(len(train_df_list)):\n",
    "    X_list_train_scaled.append(scaler.fit_transform(X_list_train[i]))"
   ]
  },
  {
   "cell_type": "code",
   "execution_count": 28,
   "id": "af8f7960",
   "metadata": {
    "execution": {
     "iopub.execute_input": "2022-02-02T00:47:55.195513Z",
     "iopub.status.busy": "2022-02-02T00:47:55.194545Z",
     "iopub.status.idle": "2022-02-02T00:47:55.242455Z",
     "shell.execute_reply": "2022-02-02T00:47:55.243206Z",
     "shell.execute_reply.started": "2022-02-02T00:21:56.261172Z"
    },
    "papermill": {
     "duration": 0.103932,
     "end_time": "2022-02-02T00:47:55.243534",
     "exception": false,
     "start_time": "2022-02-02T00:47:55.139602",
     "status": "completed"
    },
    "tags": []
   },
   "outputs": [],
   "source": [
    "X_list_test_scaled = []\n",
    "for i in range(len(train_df_list)):\n",
    "    X_list_test_scaled.append(scaler.fit_transform(X_list_test[i]))"
   ]
  },
  {
   "cell_type": "markdown",
   "id": "84e8a241",
   "metadata": {
    "papermill": {
     "duration": 0.051304,
     "end_time": "2022-02-02T00:47:55.346217",
     "exception": false,
     "start_time": "2022-02-02T00:47:55.294913",
     "status": "completed"
    },
    "tags": []
   },
   "source": [
    "## Linear Regression Model"
   ]
  },
  {
   "cell_type": "markdown",
   "id": "eb0c3f8a",
   "metadata": {
    "papermill": {
     "duration": 0.051454,
     "end_time": "2022-02-02T00:47:55.453724",
     "exception": false,
     "start_time": "2022-02-02T00:47:55.402270",
     "status": "completed"
    },
    "tags": []
   },
   "source": [
    "Let us now fit a linear regression model to the data."
   ]
  },
  {
   "cell_type": "code",
   "execution_count": 29,
   "id": "d0ee0e04",
   "metadata": {
    "execution": {
     "iopub.execute_input": "2022-02-02T00:47:55.558651Z",
     "iopub.status.busy": "2022-02-02T00:47:55.557678Z",
     "iopub.status.idle": "2022-02-02T00:47:55.561517Z",
     "shell.execute_reply": "2022-02-02T00:47:55.562124Z",
     "shell.execute_reply.started": "2022-02-02T00:21:56.309358Z"
    },
    "papermill": {
     "duration": 0.057667,
     "end_time": "2022-02-02T00:47:55.562303",
     "exception": false,
     "start_time": "2022-02-02T00:47:55.504636",
     "status": "completed"
    },
    "tags": []
   },
   "outputs": [],
   "source": [
    "lr = LinearRegression()"
   ]
  },
  {
   "cell_type": "code",
   "execution_count": 30,
   "id": "9afc69e6",
   "metadata": {
    "execution": {
     "iopub.execute_input": "2022-02-02T00:47:55.665898Z",
     "iopub.status.busy": "2022-02-02T00:47:55.664931Z",
     "iopub.status.idle": "2022-02-02T00:47:58.035016Z",
     "shell.execute_reply": "2022-02-02T00:47:58.035988Z",
     "shell.execute_reply.started": "2022-02-02T00:21:56.316111Z"
    },
    "papermill": {
     "duration": 2.424317,
     "end_time": "2022-02-02T00:47:58.036341",
     "exception": false,
     "start_time": "2022-02-02T00:47:55.612024",
     "status": "completed"
    },
    "tags": []
   },
   "outputs": [],
   "source": [
    "model_list = []\n",
    "y_pred_lr_list = []\n",
    "for i in range(len(train_df_list)):\n",
    "    model_list.append(LinearRegression())\n",
    "    model_list[i].fit(X_list_train_scaled[i], y_list_train[i])\n",
    "    y_pred_lr_list.append(model_list[i].predict(X_list_test_scaled[i]))"
   ]
  },
  {
   "cell_type": "markdown",
   "id": "66f76072",
   "metadata": {
    "papermill": {
     "duration": 0.050628,
     "end_time": "2022-02-02T00:47:58.216456",
     "exception": false,
     "start_time": "2022-02-02T00:47:58.165828",
     "status": "completed"
    },
    "tags": []
   },
   "source": [
    "Let us check the performance of our model against the test data."
   ]
  },
  {
   "cell_type": "code",
   "execution_count": 31,
   "id": "4eaf3682",
   "metadata": {
    "execution": {
     "iopub.execute_input": "2022-02-02T00:47:58.326380Z",
     "iopub.status.busy": "2022-02-02T00:47:58.325426Z",
     "iopub.status.idle": "2022-02-02T00:47:58.348014Z",
     "shell.execute_reply": "2022-02-02T00:47:58.347458Z",
     "shell.execute_reply.started": "2022-02-02T00:21:58.892475Z"
    },
    "papermill": {
     "duration": 0.080709,
     "end_time": "2022-02-02T00:47:58.348197",
     "exception": false,
     "start_time": "2022-02-02T00:47:58.267488",
     "status": "completed"
    },
    "tags": []
   },
   "outputs": [
    {
     "name": "stdout",
     "output_type": "stream",
     "text": [
      "Test score for LR: Binance Coin 0.05\n",
      "Test score for LR: Bitcoin 0.04\n",
      "Test score for LR: Bitcoin Cash -0.04\n",
      "Test score for LR: Cardano 0.09\n",
      "Test score for LR: Dogecoin 0.08\n",
      "Test score for LR: EOS.IO -0.03\n",
      "Test score for LR: Ethereum 0.02\n",
      "Test score for LR: Ethereum Classic 0.04\n",
      "Test score for LR: IOTA 0.02\n",
      "Test score for LR: Litecoin -0.03\n",
      "Test score for LR: Maker 0.01\n",
      "Test score for LR: Monero 0.04\n",
      "Test score for LR: Stellar 0.00\n",
      "Test score for LR: TRON 0.03\n"
     ]
    }
   ],
   "source": [
    "for i in range(len(train_df_list)):\n",
    "    print('Test score for LR: %s' % asset_details.loc[i, 'Asset_Name'], f\"{np.corrcoef(y_pred_lr_list[i], y_list_test[i])[0,1]:.2f}\")"
   ]
  },
  {
   "cell_type": "markdown",
   "id": "4fe818d7",
   "metadata": {
    "papermill": {
     "duration": 0.061539,
     "end_time": "2022-02-02T00:47:58.466012",
     "exception": false,
     "start_time": "2022-02-02T00:47:58.404473",
     "status": "completed"
    },
    "tags": []
   },
   "source": [
    "## Submission"
   ]
  },
  {
   "cell_type": "code",
   "execution_count": 32,
   "id": "185847f0",
   "metadata": {
    "execution": {
     "iopub.execute_input": "2022-02-02T00:47:58.584346Z",
     "iopub.status.busy": "2022-02-02T00:47:58.583629Z",
     "iopub.status.idle": "2022-02-02T00:47:58.586792Z",
     "shell.execute_reply": "2022-02-02T00:47:58.586276Z",
     "shell.execute_reply.started": "2022-02-02T00:21:58.971086Z"
    },
    "papermill": {
     "duration": 0.059215,
     "end_time": "2022-02-02T00:47:58.586940",
     "exception": false,
     "start_time": "2022-02-02T00:47:58.527725",
     "status": "completed"
    },
    "tags": []
   },
   "outputs": [],
   "source": [
    "env = gresearch_crypto.make_env()"
   ]
  },
  {
   "cell_type": "code",
   "execution_count": 33,
   "id": "9fb1de81",
   "metadata": {
    "execution": {
     "iopub.execute_input": "2022-02-02T00:47:58.692935Z",
     "iopub.status.busy": "2022-02-02T00:47:58.692272Z",
     "iopub.status.idle": "2022-02-02T00:47:58.695880Z",
     "shell.execute_reply": "2022-02-02T00:47:58.696488Z",
     "shell.execute_reply.started": "2022-02-02T00:21:58.984428Z"
    },
    "papermill": {
     "duration": 0.059092,
     "end_time": "2022-02-02T00:47:58.696665",
     "exception": false,
     "start_time": "2022-02-02T00:47:58.637573",
     "status": "completed"
    },
    "tags": []
   },
   "outputs": [],
   "source": [
    "iter_test = env.iter_test()"
   ]
  },
  {
   "cell_type": "code",
   "execution_count": 34,
   "id": "ce14b48c",
   "metadata": {
    "execution": {
     "iopub.execute_input": "2022-02-02T00:47:58.802544Z",
     "iopub.status.busy": "2022-02-02T00:47:58.801834Z",
     "iopub.status.idle": "2022-02-02T00:47:58.952769Z",
     "shell.execute_reply": "2022-02-02T00:47:58.952027Z",
     "shell.execute_reply.started": "2022-02-02T00:21:58.999192Z"
    },
    "papermill": {
     "duration": 0.205528,
     "end_time": "2022-02-02T00:47:58.952921",
     "exception": false,
     "start_time": "2022-02-02T00:47:58.747393",
     "status": "completed"
    },
    "tags": []
   },
   "outputs": [
    {
     "name": "stdout",
     "output_type": "stream",
     "text": [
      "This version of the API is not optimized and should not be used to estimate the runtime of your code on the hidden test set.\n"
     ]
    }
   ],
   "source": [
    "submission = pd.DataFrame(columns=['group_num', 'row_id', 'Target'])\n",
    "group_num = 0\n",
    "for (test_df, sample_prediction_df) in iter_test:\n",
    "    test_df.fillna(0).set_index('row_id')\n",
    "    for asset_id in test_df['Asset_ID']:\n",
    "        X_tmp = test_df[test_df['Asset_ID'] == asset_id][['Count', 'High', 'Volume']].copy()\n",
    "        sample_prediction_df.loc[X_tmp.index, 'Target'] = model_list[asset_id].predict(X_tmp.to_numpy())\n",
    "    tmp = sample_prediction_df.copy()\n",
    "    tmp['group_num'] = group_num\n",
    "    group_num+=1\n",
    "    submission = submission.append(tmp)\n",
    "    env.predict(sample_prediction_df)"
   ]
  },
  {
   "cell_type": "code",
   "execution_count": 35,
   "id": "7d466ca3",
   "metadata": {
    "execution": {
     "iopub.execute_input": "2022-02-02T00:47:59.068432Z",
     "iopub.status.busy": "2022-02-02T00:47:59.067536Z",
     "iopub.status.idle": "2022-02-02T00:47:59.072099Z",
     "shell.execute_reply": "2022-02-02T00:47:59.071489Z",
     "shell.execute_reply.started": "2022-02-02T00:21:59.188851Z"
    },
    "papermill": {
     "duration": 0.066993,
     "end_time": "2022-02-02T00:47:59.072251",
     "exception": false,
     "start_time": "2022-02-02T00:47:59.005258",
     "status": "completed"
    },
    "tags": []
   },
   "outputs": [
    {
     "data": {
      "text/html": [
       "<div>\n",
       "<style scoped>\n",
       "    .dataframe tbody tr th:only-of-type {\n",
       "        vertical-align: middle;\n",
       "    }\n",
       "\n",
       "    .dataframe tbody tr th {\n",
       "        vertical-align: top;\n",
       "    }\n",
       "\n",
       "    .dataframe thead th {\n",
       "        text-align: right;\n",
       "    }\n",
       "</style>\n",
       "<table border=\"1\" class=\"dataframe\">\n",
       "  <thead>\n",
       "    <tr style=\"text-align: right;\">\n",
       "      <th></th>\n",
       "      <th>group_num</th>\n",
       "      <th>row_id</th>\n",
       "      <th>Target</th>\n",
       "    </tr>\n",
       "  </thead>\n",
       "  <tbody>\n",
       "    <tr>\n",
       "      <th>0</th>\n",
       "      <td>0</td>\n",
       "      <td>0</td>\n",
       "      <td>53.568761</td>\n",
       "    </tr>\n",
       "    <tr>\n",
       "      <th>1</th>\n",
       "      <td>0</td>\n",
       "      <td>1</td>\n",
       "      <td>0.071465</td>\n",
       "    </tr>\n",
       "    <tr>\n",
       "      <th>2</th>\n",
       "      <td>0</td>\n",
       "      <td>2</td>\n",
       "      <td>0.064669</td>\n",
       "    </tr>\n",
       "    <tr>\n",
       "      <th>3</th>\n",
       "      <td>0</td>\n",
       "      <td>3</td>\n",
       "      <td>0.419349</td>\n",
       "    </tr>\n",
       "    <tr>\n",
       "      <th>4</th>\n",
       "      <td>0</td>\n",
       "      <td>4</td>\n",
       "      <td>202.288064</td>\n",
       "    </tr>\n",
       "  </tbody>\n",
       "</table>\n",
       "</div>"
      ],
      "text/plain": [
       "  group_num row_id      Target\n",
       "0         0      0   53.568761\n",
       "1         0      1    0.071465\n",
       "2         0      2    0.064669\n",
       "3         0      3    0.419349\n",
       "4         0      4  202.288064"
      ]
     },
     "execution_count": 35,
     "metadata": {},
     "output_type": "execute_result"
    }
   ],
   "source": [
    "submission.head()"
   ]
  },
  {
   "cell_type": "code",
   "execution_count": 36,
   "id": "5c5e207a",
   "metadata": {
    "execution": {
     "iopub.execute_input": "2022-02-02T00:47:59.181720Z",
     "iopub.status.busy": "2022-02-02T00:47:59.181073Z",
     "iopub.status.idle": "2022-02-02T00:47:59.187307Z",
     "shell.execute_reply": "2022-02-02T00:47:59.187821Z",
     "shell.execute_reply.started": "2022-02-02T00:22:34.102509Z"
    },
    "papermill": {
     "duration": 0.063341,
     "end_time": "2022-02-02T00:47:59.187996",
     "exception": false,
     "start_time": "2022-02-02T00:47:59.124655",
     "status": "completed"
    },
    "tags": []
   },
   "outputs": [],
   "source": [
    "submission.to_csv('submission.csv', index=False)"
   ]
  },
  {
   "cell_type": "code",
   "execution_count": null,
   "id": "fbd82be0",
   "metadata": {
    "papermill": {
     "duration": 0.051099,
     "end_time": "2022-02-02T00:47:59.291030",
     "exception": false,
     "start_time": "2022-02-02T00:47:59.239931",
     "status": "completed"
    },
    "tags": []
   },
   "outputs": [],
   "source": []
  }
 ],
 "metadata": {
  "kernelspec": {
   "display_name": "Python 3",
   "language": "python",
   "name": "python3"
  },
  "language_info": {
   "codemirror_mode": {
    "name": "ipython",
    "version": 3
   },
   "file_extension": ".py",
   "mimetype": "text/x-python",
   "name": "python",
   "nbconvert_exporter": "python",
   "pygments_lexer": "ipython3",
   "version": "3.7.12"
  },
  "papermill": {
   "default_parameters": {},
   "duration": 132.962323,
   "end_time": "2022-02-02T00:48:00.257654",
   "environment_variables": {},
   "exception": null,
   "input_path": "__notebook__.ipynb",
   "output_path": "__notebook__.ipynb",
   "parameters": {},
   "start_time": "2022-02-02T00:45:47.295331",
   "version": "2.3.3"
  }
 },
 "nbformat": 4,
 "nbformat_minor": 5
}
