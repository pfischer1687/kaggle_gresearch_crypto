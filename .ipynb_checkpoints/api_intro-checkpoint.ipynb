{
 "cells": [
  {
   "cell_type": "markdown",
   "id": "1d828a1b",
   "metadata": {},
   "source": [
    "# Detailed API Introduction"
   ]
  },
  {
   "cell_type": "code",
   "execution_count": 1,
   "id": "c0b71889",
   "metadata": {},
   "outputs": [],
   "source": [
    "import sys\n",
    "sys.path.insert(0, '../data') # Paul: add directory holding API to pythonpath\n",
    "import gresearch_crypto\n",
    "import pandas as pd\n",
    "import os"
   ]
  },
  {
   "cell_type": "markdown",
   "id": "e293231e",
   "metadata": {},
   "source": [
    "You can only submit from Kaggle Notebooks."
   ]
  },
  {
   "cell_type": "markdown",
   "id": "695870ae",
   "metadata": {},
   "source": [
    "## TL;DR: End-to-End Usage Example"
   ]
  },
  {
   "cell_type": "code",
   "execution_count": null,
   "id": "a2800911",
   "metadata": {},
   "outputs": [],
   "source": []
  }
 ],
 "metadata": {
  "kernelspec": {
   "display_name": "Python 3 (ipykernel)",
   "language": "python",
   "name": "python3"
  },
  "language_info": {
   "codemirror_mode": {
    "name": "ipython",
    "version": 3
   },
   "file_extension": ".py",
   "mimetype": "text/x-python",
   "name": "python",
   "nbconvert_exporter": "python",
   "pygments_lexer": "ipython3",
   "version": "3.7.11"
  }
 },
 "nbformat": 4,
 "nbformat_minor": 5
}
